{
 "cells": [
  {
   "cell_type": "markdown",
   "metadata": {},
   "source": [
    "# Time Series"
   ]
  },
  {
   "cell_type": "markdown",
   "metadata": {},
   "source": [
    "### Data observations occurring over different points in time, whether *fixed frequency* or *irregular*."
   ]
  },
  {
   "cell_type": "markdown",
   "metadata": {},
   "source": [
    "#### Entities useful to think about concerning time series"
   ]
  },
  {
   "cell_type": "markdown",
   "metadata": {},
   "source": [
    "Timestamps - specific instants in time"
   ]
  },
  {
   "cell_type": "markdown",
   "metadata": {},
   "source": [
    "Intervals - spans of time marked by a starting and ending timestamp"
   ]
  },
  {
   "cell_type": "markdown",
   "metadata": {},
   "source": [
    "Periods - special cases of Intervals, neatly bookended, like the month of January, the 1st Quarter, or the year 2016"
   ]
  },
  {
   "cell_type": "markdown",
   "metadata": {},
   "source": [
    "Experiment or Elapsed time - time relative to an arbitrarily chosen $t_0$ starting timestamp."
   ]
  },
  {
   "cell_type": "markdown",
   "metadata": {},
   "source": [
    "### Standard Python Date and Time Data Types"
   ]
  },
  {
   "cell_type": "markdown",
   "metadata": {},
   "source": [
    "Python has date and time functionality in its `datetime`, `time`, and `calendar` modules."
   ]
  },
  {
   "cell_type": "markdown",
   "metadata": {},
   "source": [
    "The most basic type is the `datetime` type from the `datetime` module, which can store a date and time down to the microsecond"
   ]
  },
  {
   "cell_type": "code",
   "execution_count": 2,
   "metadata": {},
   "outputs": [],
   "source": [
    "from datetime import datetime"
   ]
  },
  {
   "cell_type": "markdown",
   "metadata": {},
   "source": [
    "#### the `datetime` type - a timestamp"
   ]
  },
  {
   "cell_type": "markdown",
   "metadata": {},
   "source": [
    "The `now()` method returns current time and will also take a time zone argument"
   ]
  },
  {
   "cell_type": "code",
   "execution_count": 3,
   "metadata": {},
   "outputs": [
    {
     "data": {
      "text/plain": [
       "datetime.datetime(2017, 11, 12, 11, 7, 30, 155385)"
      ]
     },
     "execution_count": 3,
     "metadata": {},
     "output_type": "execute_result"
    }
   ],
   "source": [
    "now = datetime.now()\n",
    "now"
   ]
  },
  {
   "cell_type": "code",
   "execution_count": 4,
   "metadata": {},
   "outputs": [
    {
     "data": {
      "text/plain": [
       "datetime.datetime"
      ]
     },
     "execution_count": 4,
     "metadata": {},
     "output_type": "execute_result"
    }
   ],
   "source": [
    "type(now)"
   ]
  },
  {
   "cell_type": "markdown",
   "metadata": {},
   "source": [
    "The `today()` method also returns the current time but does not take any arguments."
   ]
  },
  {
   "cell_type": "code",
   "execution_count": 5,
   "metadata": {},
   "outputs": [
    {
     "data": {
      "text/plain": [
       "datetime.datetime(2017, 11, 12, 11, 8, 2, 482550)"
      ]
     },
     "execution_count": 5,
     "metadata": {},
     "output_type": "execute_result"
    }
   ],
   "source": [
    "today = datetime.today()\n",
    "today"
   ]
  },
  {
   "cell_type": "code",
   "execution_count": 6,
   "metadata": {},
   "outputs": [
    {
     "data": {
      "text/plain": [
       "datetime.datetime"
      ]
     },
     "execution_count": 6,
     "metadata": {},
     "output_type": "execute_result"
    }
   ],
   "source": [
    "type(today)"
   ]
  },
  {
   "cell_type": "markdown",
   "metadata": {},
   "source": [
    "Both give precision down to the microsecond.  \n",
    "0.001 = 1 millisecond = one onethousandth of a second  \n",
    "0.000001 = 1 microsecond = one onemillionth of a second  \n",
    "0.0000000001 = 1 nanosecond = one onebilliong of a second  "
   ]
  },
  {
   "cell_type": "markdown",
   "metadata": {},
   "source": [
    "#### the `date` type - less precision than the `datetime` type"
   ]
  },
  {
   "cell_type": "code",
   "execution_count": 9,
   "metadata": {},
   "outputs": [],
   "source": [
    "my_time = datetime.now()"
   ]
  },
  {
   "cell_type": "markdown",
   "metadata": {},
   "source": [
    "`.date()` returns a `date` object without a time.  \n",
    "Requires a `datetime` object, not integer arguments."
   ]
  },
  {
   "cell_type": "markdown",
   "metadata": {},
   "source": [
    "Two ways to do it:"
   ]
  },
  {
   "cell_type": "code",
   "execution_count": 11,
   "metadata": {},
   "outputs": [
    {
     "data": {
      "text/plain": [
       "datetime.date(2017, 11, 12)"
      ]
     },
     "execution_count": 11,
     "metadata": {},
     "output_type": "execute_result"
    }
   ],
   "source": [
    "my_time.date()"
   ]
  },
  {
   "cell_type": "code",
   "execution_count": 36,
   "metadata": {},
   "outputs": [
    {
     "data": {
      "text/plain": [
       "datetime.date(2017, 11, 12)"
      ]
     },
     "execution_count": 36,
     "metadata": {},
     "output_type": "execute_result"
    }
   ],
   "source": [
    "datetime.date(my_time)"
   ]
  },
  {
   "cell_type": "code",
   "execution_count": 14,
   "metadata": {},
   "outputs": [
    {
     "data": {
      "text/plain": [
       "datetime.date"
      ]
     },
     "execution_count": 14,
     "metadata": {},
     "output_type": "execute_result"
    }
   ],
   "source": [
    "my_date = my_time.date()\n",
    "type(my_date)"
   ]
  },
  {
   "cell_type": "markdown",
   "metadata": {},
   "source": [
    "#### Extracting pieces of a `datetime` object"
   ]
  },
  {
   "cell_type": "code",
   "execution_count": 46,
   "metadata": {},
   "outputs": [
    {
     "data": {
      "text/plain": [
       "datetime.datetime(2017, 11, 12, 7, 16, 48, 466682)"
      ]
     },
     "execution_count": 46,
     "metadata": {},
     "output_type": "execute_result"
    }
   ],
   "source": [
    "my_time = datetime.now()\n",
    "my_time"
   ]
  },
  {
   "cell_type": "markdown",
   "metadata": {},
   "source": [
    "`.year`, `.month`, `.day`, `.hour`, `.minute`, `.second`, `.microsecond`  \n",
    "`.weekday()` returns the day of the week on a Mon=0, ..., Sun=6 scale"
   ]
  },
  {
   "cell_type": "code",
   "execution_count": 62,
   "metadata": {},
   "outputs": [
    {
     "data": {
      "text/plain": [
       "11"
      ]
     },
     "execution_count": 62,
     "metadata": {},
     "output_type": "execute_result"
    }
   ],
   "source": [
    "my_time.month"
   ]
  },
  {
   "cell_type": "code",
   "execution_count": 61,
   "metadata": {},
   "outputs": [
    {
     "data": {
      "text/plain": [
       "466682"
      ]
     },
     "execution_count": 61,
     "metadata": {},
     "output_type": "execute_result"
    }
   ],
   "source": [
    "my_time.microsecond"
   ]
  },
  {
   "cell_type": "code",
   "execution_count": 64,
   "metadata": {},
   "outputs": [
    {
     "data": {
      "text/plain": [
       "6"
      ]
     },
     "execution_count": 64,
     "metadata": {},
     "output_type": "execute_result"
    }
   ],
   "source": [
    "my_time.weekday()"
   ]
  },
  {
   "cell_type": "markdown",
   "metadata": {},
   "source": [
    "#### use `datetime()` to manually create a datetime object"
   ]
  },
  {
   "cell_type": "code",
   "execution_count": 7,
   "metadata": {},
   "outputs": [
    {
     "data": {
      "text/plain": [
       "datetime.datetime(2017, 10, 31, 23, 45, 23, 234456)"
      ]
     },
     "execution_count": 7,
     "metadata": {},
     "output_type": "execute_result"
    }
   ],
   "source": [
    "new_time = datetime(2017,10,31, 23,45,23, 234456)\n",
    "new_time"
   ]
  },
  {
   "cell_type": "markdown",
   "metadata": {},
   "source": [
    "#### the `timedelta` type - an Interval - the difference in time between two timestamps"
   ]
  },
  {
   "cell_type": "markdown",
   "metadata": {},
   "source": [
    "When a `datetime` object is subtracted from another, a `timedelta` object results."
   ]
  },
  {
   "cell_type": "code",
   "execution_count": 79,
   "metadata": {},
   "outputs": [
    {
     "data": {
      "text/plain": [
       "datetime.timedelta(11, 27085, 232226)"
      ]
     },
     "execution_count": 79,
     "metadata": {},
     "output_type": "execute_result"
    }
   ],
   "source": [
    "diff = my_time - new_time\n",
    "diff"
   ]
  },
  {
   "cell_type": "markdown",
   "metadata": {},
   "source": [
    "the difference is expressed in days, seconds, microseconds"
   ]
  },
  {
   "cell_type": "code",
   "execution_count": 80,
   "metadata": {},
   "outputs": [
    {
     "data": {
      "text/plain": [
       "datetime.timedelta"
      ]
     },
     "execution_count": 80,
     "metadata": {},
     "output_type": "execute_result"
    }
   ],
   "source": [
    "type(diff)"
   ]
  },
  {
   "cell_type": "markdown",
   "metadata": {},
   "source": [
    "Can also have `timedelta` expressed only in seconds with `.total_seconds()`"
   ]
  },
  {
   "cell_type": "code",
   "execution_count": 83,
   "metadata": {},
   "outputs": [
    {
     "data": {
      "text/plain": [
       "977485.232226"
      ]
     },
     "execution_count": 83,
     "metadata": {},
     "output_type": "execute_result"
    }
   ],
   "source": [
    "diff.total_seconds()"
   ]
  },
  {
   "cell_type": "markdown",
   "metadata": {},
   "source": [
    "Can also extract pieces from a `timedelta` object.  \n",
    "`.days`, `.seconds`, `.microseconds`"
   ]
  },
  {
   "cell_type": "code",
   "execution_count": 89,
   "metadata": {},
   "outputs": [
    {
     "data": {
      "text/plain": [
       "11"
      ]
     },
     "execution_count": 89,
     "metadata": {},
     "output_type": "execute_result"
    }
   ],
   "source": [
    "diff.days"
   ]
  },
  {
   "cell_type": "markdown",
   "metadata": {},
   "source": [
    "Cannot subtract a `date` object from a `datetime` object or vice versa."
   ]
  },
  {
   "cell_type": "code",
   "execution_count": 103,
   "metadata": {},
   "outputs": [
    {
     "ename": "TypeError",
     "evalue": "unsupported operand type(s) for -: 'datetime.datetime' and 'datetime.date'",
     "output_type": "error",
     "traceback": [
      "\u001b[0;31m---------------------------------------------------------------------------\u001b[0m",
      "\u001b[0;31mTypeError\u001b[0m                                 Traceback (most recent call last)",
      "\u001b[0;32m<ipython-input-103-b86ac857467e>\u001b[0m in \u001b[0;36m<module>\u001b[0;34m()\u001b[0m\n\u001b[0;32m----> 1\u001b[0;31m \u001b[0mmy_time\u001b[0m \u001b[0;34m-\u001b[0m \u001b[0mmy_date\u001b[0m\u001b[0;34m\u001b[0m\u001b[0m\n\u001b[0m",
      "\u001b[0;31mTypeError\u001b[0m: unsupported operand type(s) for -: 'datetime.datetime' and 'datetime.date'"
     ]
    }
   ],
   "source": [
    "my_time - my_date"
   ]
  },
  {
   "cell_type": "markdown",
   "metadata": {},
   "source": [
    "But can subtract one `date` object from another, resulting in a `timedelta` object of days."
   ]
  },
  {
   "cell_type": "code",
   "execution_count": 16,
   "metadata": {},
   "outputs": [
    {
     "data": {
      "text/plain": [
       "datetime.date(2017, 10, 31)"
      ]
     },
     "execution_count": 16,
     "metadata": {},
     "output_type": "execute_result"
    }
   ],
   "source": [
    "new_date = new_time.date()  # make a new date object\n",
    "new_date"
   ]
  },
  {
   "cell_type": "code",
   "execution_count": 21,
   "metadata": {},
   "outputs": [
    {
     "data": {
      "text/plain": [
       "datetime.timedelta(0, 0, 1)"
      ]
     },
     "execution_count": 21,
     "metadata": {},
     "output_type": "execute_result"
    }
   ],
   "source": [
    "test = my_date - new_date  # difference results in timedelta object\n",
    "test.resolution"
   ]
  },
  {
   "cell_type": "markdown",
   "metadata": {},
   "source": [
    "#### Manually create intervals with the `timedelta()` method."
   ]
  },
  {
   "cell_type": "code",
   "execution_count": 23,
   "metadata": {},
   "outputs": [],
   "source": [
    "from datetime import timedelta"
   ]
  },
  {
   "cell_type": "code",
   "execution_count": 29,
   "metadata": {},
   "outputs": [
    {
     "data": {
      "text/plain": [
       "datetime.timedelta(20, 20242)"
      ]
     },
     "execution_count": 29,
     "metadata": {},
     "output_type": "execute_result"
    }
   ],
   "source": [
    "my_interval = timedelta(20, 5 * 3600 + 37 * 60 + 22)  # 12 days 5hrs 37 min 22 seconds\n",
    "my_interval"
   ]
  },
  {
   "cell_type": "markdown",
   "metadata": {},
   "source": [
    "#### Shift time with `timedelta()`"
   ]
  },
  {
   "cell_type": "markdown",
   "metadata": {},
   "source": [
    "`timedelta` objects can be added or subtracted from `datetime` or `date` objects, resulting in the same type shifted forward or backward in time."
   ]
  },
  {
   "cell_type": "code",
   "execution_count": 26,
   "metadata": {},
   "outputs": [],
   "source": [
    "start = datetime(2017,7,1)"
   ]
  },
  {
   "cell_type": "code",
   "execution_count": 37,
   "metadata": {},
   "outputs": [
    {
     "data": {
      "text/plain": [
       "datetime.datetime(2017, 6, 19, 0, 0)"
      ]
     },
     "execution_count": 37,
     "metadata": {},
     "output_type": "execute_result"
    }
   ],
   "source": [
    "start - timedelta(12)"
   ]
  },
  {
   "cell_type": "code",
   "execution_count": 30,
   "metadata": {},
   "outputs": [
    {
     "data": {
      "text/plain": [
       "datetime.datetime(2017, 7, 21, 5, 37, 22)"
      ]
     },
     "execution_count": 30,
     "metadata": {},
     "output_type": "execute_result"
    }
   ],
   "source": [
    "start + my_interval"
   ]
  },
  {
   "cell_type": "code",
   "execution_count": 35,
   "metadata": {},
   "outputs": [
    {
     "data": {
      "text/plain": [
       "datetime.date"
      ]
     },
     "execution_count": 35,
     "metadata": {},
     "output_type": "execute_result"
    }
   ],
   "source": [
    "type(my_date)  # try a timedelta with a date type"
   ]
  },
  {
   "cell_type": "code",
   "execution_count": 39,
   "metadata": {},
   "outputs": [
    {
     "data": {
      "text/plain": [
       "datetime.date(2017, 11, 12)"
      ]
     },
     "execution_count": 39,
     "metadata": {},
     "output_type": "execute_result"
    }
   ],
   "source": [
    "my_date  # reminder"
   ]
  },
  {
   "cell_type": "code",
   "execution_count": 38,
   "metadata": {},
   "outputs": [
    {
     "data": {
      "text/plain": [
       "datetime.date(2017, 11, 15)"
      ]
     },
     "execution_count": 38,
     "metadata": {},
     "output_type": "execute_result"
    }
   ],
   "source": [
    "my_date + timedelta(3, 100, 657)  # results in a date type, seconds and microseconds are lost in the process"
   ]
  },
  {
   "cell_type": "markdown",
   "metadata": {},
   "source": [
    "Can work with multiples of timedeltas as well."
   ]
  },
  {
   "cell_type": "code",
   "execution_count": 40,
   "metadata": {},
   "outputs": [
    {
     "data": {
      "text/plain": [
       "datetime.datetime(2017, 12, 10, 11, 51, 20, 216229)"
      ]
     },
     "execution_count": 40,
     "metadata": {},
     "output_type": "execute_result"
    }
   ],
   "source": [
    "four_weeks_hence = datetime.now() + 4 * timedelta(7)\n",
    "four_weeks_hence"
   ]
  },
  {
   "cell_type": "markdown",
   "metadata": {},
   "source": [
    "## Datetimes and strings"
   ]
  },
  {
   "cell_type": "markdown",
   "metadata": {},
   "source": [
    "### Converting datetimes to string"
   ]
  },
  {
   "cell_type": "code",
   "execution_count": 42,
   "metadata": {},
   "outputs": [
    {
     "data": {
      "text/plain": [
       "'2017-11-12 14:37:33'"
      ]
     },
     "execution_count": 42,
     "metadata": {},
     "output_type": "execute_result"
    }
   ],
   "source": [
    "stamp = datetime(2017, 11, 12, 14, 37, 33)\n",
    "str(stamp)"
   ]
  },
  {
   "cell_type": "markdown",
   "metadata": {},
   "source": [
    "Convenient function but maybe not the desired format or more than you want.  \n",
    "For a little control, use `strftime()`, mnemonic \"string format time\".  \n",
    "It takes a `datetime` and a formatting string argument."
   ]
  },
  {
   "cell_type": "code",
   "execution_count": 47,
   "metadata": {},
   "outputs": [
    {
     "data": {
      "text/plain": [
       "'11-12-17'"
      ]
     },
     "execution_count": 47,
     "metadata": {},
     "output_type": "execute_result"
    }
   ],
   "source": [
    "datetime.strftime(stamp, '%m-%d-%y')"
   ]
  },
  {
   "cell_type": "markdown",
   "metadata": {},
   "source": [
    "Can achieve many different results using the formatting codes."
   ]
  },
  {
   "cell_type": "code",
   "execution_count": 49,
   "metadata": {},
   "outputs": [
    {
     "data": {
      "text/plain": [
       "'Sunday, the 12th of November, 2017'"
      ]
     },
     "execution_count": 49,
     "metadata": {},
     "output_type": "execute_result"
    }
   ],
   "source": [
    "datetime.strftime(stamp, '%A, the %dth of %B, %Y')"
   ]
  },
  {
   "cell_type": "markdown",
   "metadata": {},
   "source": [
    "See full formatting codes at Python docs https://docs.python.org/3/library/datetime.html#strftime-and-strptime-behavior"
   ]
  },
  {
   "cell_type": "markdown",
   "metadata": {},
   "source": [
    "## Converting strings to datetimes"
   ]
  },
  {
   "cell_type": "markdown",
   "metadata": {},
   "source": [
    "Very often you will encounter a date represented as a string and need to convert it to `datetime` in order to perform calculations."
   ]
  },
  {
   "cell_type": "markdown",
   "metadata": {},
   "source": [
    "### `strptime()`"
   ]
  },
  {
   "cell_type": "markdown",
   "metadata": {},
   "source": [
    "`strftime()` sister function, `strptime()` takes a string date and a formatting string indicating the positions of the date components in the string date and returns a `datetime` object."
   ]
  },
  {
   "cell_type": "code",
   "execution_count": 50,
   "metadata": {},
   "outputs": [
    {
     "data": {
      "text/plain": [
       "datetime.datetime(2017, 3, 14, 0, 0)"
      ]
     },
     "execution_count": 50,
     "metadata": {},
     "output_type": "execute_result"
    }
   ],
   "source": [
    "datetime.strptime('3/14/17', '%m/%d/%y')"
   ]
  },
  {
   "cell_type": "code",
   "execution_count": 51,
   "metadata": {},
   "outputs": [
    {
     "data": {
      "text/plain": [
       "datetime.datetime(2017, 12, 12, 0, 0)"
      ]
     },
     "execution_count": 51,
     "metadata": {},
     "output_type": "execute_result"
    }
   ],
   "source": [
    "datetime.strptime('Dec-12-2017', '%b-%d-%Y')"
   ]
  },
  {
   "cell_type": "markdown",
   "metadata": {},
   "source": [
    "This works well, but you may get weary of always having to supply the formatting string."
   ]
  },
  {
   "cell_type": "markdown",
   "metadata": {},
   "source": [
    "### `parse()`"
   ]
  },
  {
   "cell_type": "markdown",
   "metadata": {},
   "source": [
    "The `dateutil` package contains a powerful function, `parser.parse()` which will parse most date strings into a `datetime`."
   ]
  },
  {
   "cell_type": "code",
   "execution_count": 52,
   "metadata": {},
   "outputs": [
    {
     "data": {
      "text/plain": [
       "datetime.datetime(2017, 3, 7, 0, 0)"
      ]
     },
     "execution_count": 52,
     "metadata": {},
     "output_type": "execute_result"
    }
   ],
   "source": [
    "from dateutil.parser import parse\n",
    "parse('2017-3-7')"
   ]
  },
  {
   "cell_type": "code",
   "execution_count": 53,
   "metadata": {},
   "outputs": [
    {
     "data": {
      "text/plain": [
       "datetime.datetime(2017, 4, 5, 0, 0)"
      ]
     },
     "execution_count": 53,
     "metadata": {},
     "output_type": "execute_result"
    }
   ],
   "source": [
    "parse('4/5/17')"
   ]
  },
  {
   "cell_type": "code",
   "execution_count": 55,
   "metadata": {},
   "outputs": [
    {
     "data": {
      "text/plain": [
       "datetime.datetime(1984, 6, 6, 22, 45)"
      ]
     },
     "execution_count": 55,
     "metadata": {},
     "output_type": "execute_result"
    }
   ],
   "source": [
    "parse('June 6th, 1984, 10:45 PM')"
   ]
  },
  {
   "cell_type": "markdown",
   "metadata": {},
   "source": [
    "When you know you're dealing with International date formats that list the day before the month, `parse()` takes an argument `dayfirst=True`"
   ]
  },
  {
   "cell_type": "code",
   "execution_count": 60,
   "metadata": {},
   "outputs": [
    {
     "data": {
      "text/plain": [
       "datetime.datetime(2017, 5, 4, 0, 0)"
      ]
     },
     "execution_count": 60,
     "metadata": {},
     "output_type": "execute_result"
    }
   ],
   "source": [
    "parse('4-5-17', dayfirst=True )  # May 4th"
   ]
  },
  {
   "cell_type": "markdown",
   "metadata": {},
   "source": [
    "However, `parse()` is not built to handle arrays of dates.  You'd have to use list comprehension to work with arrays."
   ]
  },
  {
   "cell_type": "code",
   "execution_count": 62,
   "metadata": {
    "scrolled": true
   },
   "outputs": [
    {
     "data": {
      "text/plain": [
       "[datetime.datetime(2017, 7, 21, 0, 0),\n",
       " datetime.datetime(2017, 7, 22, 0, 0),\n",
       " datetime.datetime(2017, 7, 23, 0, 0)]"
      ]
     },
     "execution_count": 62,
     "metadata": {},
     "output_type": "execute_result"
    }
   ],
   "source": [
    "[parse(x) for x in ['7-21-17', '7-22-17', '7-23-17']]"
   ]
  },
  {
   "cell_type": "markdown",
   "metadata": {},
   "source": [
    "### Pandas `.to_datetime()`"
   ]
  },
  {
   "cell_type": "markdown",
   "metadata": {},
   "source": [
    "`pd.to_datetime()` **is** built to handle arrays of dates and parses as well as `parse()`"
   ]
  },
  {
   "cell_type": "code",
   "execution_count": 75,
   "metadata": {},
   "outputs": [
    {
     "data": {
      "text/plain": [
       "DatetimeIndex(['2017-07-06', '2017-08-09', '2017-02-12'], dtype='datetime64[ns]', freq=None)"
      ]
     },
     "execution_count": 75,
     "metadata": {},
     "output_type": "execute_result"
    }
   ],
   "source": [
    "import pandas as pd\n",
    "datestrs = ['7/6/2017', '8-9-17', '12-Feb-17']\n",
    "pd.to_datetime(datestrs)"
   ]
  },
  {
   "cell_type": "markdown",
   "metadata": {},
   "source": [
    "When `pd.to_datetime()` parses multiple date strings, the result is a Pandas DatetimeIndex."
   ]
  },
  {
   "cell_type": "code",
   "execution_count": 70,
   "metadata": {},
   "outputs": [
    {
     "data": {
      "text/plain": [
       "Timestamp('2017-07-06 00:00:00')"
      ]
     },
     "execution_count": 70,
     "metadata": {},
     "output_type": "execute_result"
    }
   ],
   "source": [
    "pd.to_datetime('7/6/2017')"
   ]
  },
  {
   "cell_type": "markdown",
   "metadata": {},
   "source": [
    "But when `pd.to_datetime()` parses a single date string, the result is a Pandas Timestamp."
   ]
  },
  {
   "cell_type": "markdown",
   "metadata": {},
   "source": [
    "## Time Series Basics"
   ]
  },
  {
   "cell_type": "markdown",
   "metadata": {},
   "source": [
    "The most basic kind of time series object in Pandas is, generically, a Series of data indexed by timestamps.  \n",
    "The timestamps may arise from Python strings or `datetime` objects."
   ]
  },
  {
   "cell_type": "code",
   "execution_count": 1,
   "metadata": {},
   "outputs": [],
   "source": [
    "import pandas as pd\n",
    "from pandas import Series\n",
    "import numpy as np\n",
    "from datetime import datetime"
   ]
  },
  {
   "cell_type": "code",
   "execution_count": 2,
   "metadata": {},
   "outputs": [],
   "source": [
    "from datetime import datetime\n",
    "dates = [datetime(2017, 1, 2), datetime(2017, 1, 5), datetime(2017, 1, 7), datetime(2017, 1, 8), datetime(2017, 1, 10), datetime(2017, 1, 12)]\n",
    "ts = Series(np.random.randn(6), index=dates)"
   ]
  },
  {
   "cell_type": "code",
   "execution_count": 3,
   "metadata": {},
   "outputs": [
    {
     "data": {
      "text/plain": [
       "pandas.core.series.Series"
      ]
     },
     "execution_count": 3,
     "metadata": {},
     "output_type": "execute_result"
    }
   ],
   "source": [
    "type(ts)"
   ]
  },
  {
   "cell_type": "markdown",
   "metadata": {},
   "source": [
    "Under the hood, these datetime objects have been assembled into a Pandas DatetimeIndex and the variable `ts` is of type `Series`.  \n",
    "** older documentation may refer to a `TimeSeries` type but that was deprecated with Pandas 0.13"
   ]
  },
  {
   "cell_type": "markdown",
   "metadata": {},
   "source": [
    "As with all Series, arithmetic operations between differently indexed time series automatically align on the dates:"
   ]
  },
  {
   "cell_type": "code",
   "execution_count": 4,
   "metadata": {},
   "outputs": [
    {
     "data": {
      "text/plain": [
       "2017-01-02    1.013992\n",
       "2017-01-05   -0.544905\n",
       "2017-01-07   -1.324754\n",
       "2017-01-08   -0.020392\n",
       "2017-01-10    0.635246\n",
       "2017-01-12    0.251412\n",
       "dtype: float64"
      ]
     },
     "execution_count": 4,
     "metadata": {},
     "output_type": "execute_result"
    }
   ],
   "source": [
    "ts"
   ]
  },
  {
   "cell_type": "code",
   "execution_count": 5,
   "metadata": {},
   "outputs": [
    {
     "data": {
      "text/plain": [
       "2017-01-02    1.013992\n",
       "2017-01-07   -1.324754\n",
       "2017-01-10    0.635246\n",
       "dtype: float64"
      ]
     },
     "execution_count": 5,
     "metadata": {},
     "output_type": "execute_result"
    }
   ],
   "source": [
    "ts[::2]  # every other"
   ]
  },
  {
   "cell_type": "code",
   "execution_count": 6,
   "metadata": {},
   "outputs": [
    {
     "data": {
      "text/plain": [
       "2017-01-02    2.027985\n",
       "2017-01-05         NaN\n",
       "2017-01-07   -2.649507\n",
       "2017-01-08         NaN\n",
       "2017-01-10    1.270492\n",
       "2017-01-12         NaN\n",
       "dtype: float64"
      ]
     },
     "execution_count": 6,
     "metadata": {},
     "output_type": "execute_result"
    }
   ],
   "source": [
    "ts + ts[::2]  # numbers summed where indexes match, NaNs where the 2nd Series has nothing"
   ]
  },
  {
   "cell_type": "markdown",
   "metadata": {},
   "source": [
    "Scalar values from the DatetimeIndex are of Pandas type `Timestamp`.  A `Timestamp` can be substituted anywhere you'd use a `Datetime` object.  \n",
    "Additionally, it can store frequency information and understands how to do Time Zone conversions and other kinds of manipulations."
   ]
  },
  {
   "cell_type": "code",
   "execution_count": 7,
   "metadata": {},
   "outputs": [
    {
     "data": {
      "text/plain": [
       "DatetimeIndex(['2017-01-02', '2017-01-05', '2017-01-07', '2017-01-08',\n",
       "               '2017-01-10', '2017-01-12'],\n",
       "              dtype='datetime64[ns]', freq=None)"
      ]
     },
     "execution_count": 7,
     "metadata": {},
     "output_type": "execute_result"
    }
   ],
   "source": [
    "ts.index"
   ]
  },
  {
   "cell_type": "code",
   "execution_count": 8,
   "metadata": {},
   "outputs": [
    {
     "data": {
      "text/plain": [
       "pandas._libs.tslib.Timestamp"
      ]
     },
     "execution_count": 8,
     "metadata": {},
     "output_type": "execute_result"
    }
   ],
   "source": [
    "type(ts.index[0])"
   ]
  },
  {
   "cell_type": "markdown",
   "metadata": {},
   "source": [
    "## Indexing, Selecting, Subsetting"
   ]
  },
  {
   "cell_type": "code",
   "execution_count": 9,
   "metadata": {},
   "outputs": [
    {
     "data": {
      "text/plain": [
       "2017-01-02    1.013992\n",
       "2017-01-05   -0.544905\n",
       "2017-01-07   -1.324754\n",
       "2017-01-08   -0.020392\n",
       "2017-01-10    0.635246\n",
       "2017-01-12    0.251412\n",
       "dtype: float64"
      ]
     },
     "execution_count": 9,
     "metadata": {},
     "output_type": "execute_result"
    }
   ],
   "source": [
    "ts  # reminder"
   ]
  },
  {
   "cell_type": "code",
   "execution_count": 10,
   "metadata": {},
   "outputs": [
    {
     "data": {
      "text/plain": [
       "Timestamp('2017-01-07 00:00:00')"
      ]
     },
     "execution_count": 10,
     "metadata": {},
     "output_type": "execute_result"
    }
   ],
   "source": [
    "ts.index[2]"
   ]
  },
  {
   "cell_type": "code",
   "execution_count": 11,
   "metadata": {},
   "outputs": [],
   "source": [
    "stamp = ts.index[2]"
   ]
  },
  {
   "cell_type": "code",
   "execution_count": 12,
   "metadata": {},
   "outputs": [
    {
     "data": {
      "text/plain": [
       "-1.3247536905615083"
      ]
     },
     "execution_count": 12,
     "metadata": {},
     "output_type": "execute_result"
    }
   ],
   "source": [
    "ts[stamp]"
   ]
  },
  {
   "cell_type": "markdown",
   "metadata": {},
   "source": [
    "Can also pass a string that is interpretable as a date:"
   ]
  },
  {
   "cell_type": "code",
   "execution_count": 13,
   "metadata": {},
   "outputs": [
    {
     "data": {
      "text/plain": [
       "-1.3247536905615083"
      ]
     },
     "execution_count": 13,
     "metadata": {},
     "output_type": "execute_result"
    }
   ],
   "source": [
    "ts['Jan-7-2017']"
   ]
  },
  {
   "cell_type": "code",
   "execution_count": 14,
   "metadata": {},
   "outputs": [
    {
     "data": {
      "text/plain": [
       "-1.3247536905615083"
      ]
     },
     "execution_count": 14,
     "metadata": {},
     "output_type": "execute_result"
    }
   ],
   "source": [
    "ts['20170107']"
   ]
  },
  {
   "cell_type": "markdown",
   "metadata": {},
   "source": [
    "For longer time series, a year only or a year and month can be passed to select data:"
   ]
  },
  {
   "cell_type": "code",
   "execution_count": 15,
   "metadata": {},
   "outputs": [],
   "source": [
    "longer_ts = Series(np.random.randn(1000), index=pd.date_range('1/1/2014', periods=1000))"
   ]
  },
  {
   "cell_type": "code",
   "execution_count": 16,
   "metadata": {
    "scrolled": true
   },
   "outputs": [
    {
     "data": {
      "text/plain": [
       "2014-01-01   -0.581059\n",
       "2014-01-02   -0.626574\n",
       "2014-01-03    0.285798\n",
       "2014-01-04    0.436557\n",
       "2014-01-05    0.249141\n",
       "2014-01-06    0.248383\n",
       "2014-01-07   -0.270371\n",
       "2014-01-08   -1.209010\n",
       "2014-01-09    0.004494\n",
       "2014-01-10   -2.059895\n",
       "2014-01-11   -0.916560\n",
       "2014-01-12   -0.866008\n",
       "2014-01-13    0.289443\n",
       "2014-01-14    0.245898\n",
       "2014-01-15   -0.131810\n",
       "2014-01-16    0.488818\n",
       "2014-01-17    0.291183\n",
       "2014-01-18    0.186903\n",
       "2014-01-19    0.212818\n",
       "2014-01-20    1.240618\n",
       "2014-01-21    0.774390\n",
       "2014-01-22    0.904166\n",
       "2014-01-23    0.167843\n",
       "2014-01-24   -1.932781\n",
       "2014-01-25   -0.089920\n",
       "2014-01-26   -0.759111\n",
       "2014-01-27   -0.072015\n",
       "2014-01-28   -1.091258\n",
       "2014-01-29    0.612128\n",
       "2014-01-30   -0.171878\n",
       "                ...   \n",
       "2016-08-28    1.197473\n",
       "2016-08-29   -0.521036\n",
       "2016-08-30    0.622203\n",
       "2016-08-31   -0.721521\n",
       "2016-09-01   -1.106838\n",
       "2016-09-02   -0.985234\n",
       "2016-09-03   -0.864989\n",
       "2016-09-04    2.253327\n",
       "2016-09-05    0.274149\n",
       "2016-09-06   -0.298985\n",
       "2016-09-07    1.070865\n",
       "2016-09-08    0.469468\n",
       "2016-09-09    1.331798\n",
       "2016-09-10   -1.721861\n",
       "2016-09-11    0.189996\n",
       "2016-09-12   -1.273872\n",
       "2016-09-13    1.911213\n",
       "2016-09-14    1.171125\n",
       "2016-09-15   -0.092849\n",
       "2016-09-16   -0.281034\n",
       "2016-09-17    1.186484\n",
       "2016-09-18    0.414335\n",
       "2016-09-19   -0.836099\n",
       "2016-09-20    0.806664\n",
       "2016-09-21    0.801261\n",
       "2016-09-22    0.543293\n",
       "2016-09-23   -1.075291\n",
       "2016-09-24    0.227980\n",
       "2016-09-25   -0.344715\n",
       "2016-09-26   -1.659978\n",
       "Freq: D, Length: 1000, dtype: float64"
      ]
     },
     "execution_count": 16,
     "metadata": {},
     "output_type": "execute_result"
    }
   ],
   "source": [
    "longer_ts"
   ]
  },
  {
   "cell_type": "code",
   "execution_count": 17,
   "metadata": {
    "scrolled": true
   },
   "outputs": [
    {
     "data": {
      "text/plain": [
       "2015-01-01   -1.978820\n",
       "2015-01-02    0.386896\n",
       "2015-01-03    0.801072\n",
       "2015-01-04   -0.835593\n",
       "2015-01-05   -0.128167\n",
       "2015-01-06   -0.268469\n",
       "2015-01-07   -0.744481\n",
       "2015-01-08    2.451290\n",
       "2015-01-09   -1.267607\n",
       "2015-01-10   -1.336758\n",
       "2015-01-11   -1.606489\n",
       "2015-01-12   -0.124963\n",
       "2015-01-13   -1.123109\n",
       "2015-01-14   -2.002436\n",
       "2015-01-15   -0.603219\n",
       "2015-01-16    0.549910\n",
       "2015-01-17    0.628098\n",
       "2015-01-18   -0.807392\n",
       "2015-01-19   -0.890333\n",
       "2015-01-20   -0.332081\n",
       "2015-01-21    1.008852\n",
       "2015-01-22   -1.498122\n",
       "2015-01-23   -0.720306\n",
       "2015-01-24    0.327020\n",
       "2015-01-25   -0.909572\n",
       "2015-01-26   -0.135499\n",
       "2015-01-27   -0.406672\n",
       "2015-01-28    0.953059\n",
       "2015-01-29    0.675853\n",
       "2015-01-30   -0.692012\n",
       "                ...   \n",
       "2015-12-02   -0.200029\n",
       "2015-12-03   -0.615186\n",
       "2015-12-04    0.269072\n",
       "2015-12-05   -1.035311\n",
       "2015-12-06    1.697176\n",
       "2015-12-07    0.644690\n",
       "2015-12-08   -1.981519\n",
       "2015-12-09    0.815312\n",
       "2015-12-10   -0.752776\n",
       "2015-12-11   -1.548760\n",
       "2015-12-12    1.782599\n",
       "2015-12-13   -0.524443\n",
       "2015-12-14   -0.820695\n",
       "2015-12-15   -0.381828\n",
       "2015-12-16   -0.326772\n",
       "2015-12-17    0.684946\n",
       "2015-12-18   -0.706974\n",
       "2015-12-19   -2.044069\n",
       "2015-12-20   -0.103373\n",
       "2015-12-21   -1.054426\n",
       "2015-12-22    1.673078\n",
       "2015-12-23    0.943807\n",
       "2015-12-24    0.035769\n",
       "2015-12-25    0.524367\n",
       "2015-12-26   -1.608690\n",
       "2015-12-27    0.878519\n",
       "2015-12-28   -1.865983\n",
       "2015-12-29    2.338116\n",
       "2015-12-30   -0.545109\n",
       "2015-12-31   -0.111200\n",
       "Freq: D, Length: 365, dtype: float64"
      ]
     },
     "execution_count": 17,
     "metadata": {},
     "output_type": "execute_result"
    }
   ],
   "source": [
    "longer_ts['2015']"
   ]
  },
  {
   "cell_type": "code",
   "execution_count": 18,
   "metadata": {
    "scrolled": true
   },
   "outputs": [
    {
     "data": {
      "text/plain": [
       "2016-03-01   -0.109365\n",
       "2016-03-02    0.181461\n",
       "2016-03-03   -0.175725\n",
       "2016-03-04    0.547773\n",
       "2016-03-05   -0.934731\n",
       "2016-03-06    1.642307\n",
       "2016-03-07    1.996190\n",
       "2016-03-08    0.801441\n",
       "2016-03-09    0.674438\n",
       "2016-03-10   -0.114258\n",
       "2016-03-11   -0.155783\n",
       "2016-03-12   -1.439531\n",
       "2016-03-13    1.282998\n",
       "2016-03-14   -0.556539\n",
       "2016-03-15    0.047362\n",
       "2016-03-16    0.604573\n",
       "2016-03-17   -0.447864\n",
       "2016-03-18    0.710213\n",
       "2016-03-19   -1.183996\n",
       "2016-03-20   -0.134745\n",
       "2016-03-21   -1.195419\n",
       "2016-03-22   -0.009212\n",
       "2016-03-23    0.368021\n",
       "2016-03-24   -0.632013\n",
       "2016-03-25   -1.304101\n",
       "2016-03-26   -0.384647\n",
       "2016-03-27   -0.244581\n",
       "2016-03-28   -2.301828\n",
       "2016-03-29   -0.819440\n",
       "2016-03-30    2.412657\n",
       "2016-03-31    0.617553\n",
       "Freq: D, dtype: float64"
      ]
     },
     "execution_count": 18,
     "metadata": {},
     "output_type": "execute_result"
    }
   ],
   "source": [
    "longer_ts['2016-Mar']"
   ]
  },
  {
   "cell_type": "markdown",
   "metadata": {},
   "source": [
    "Slicing with dates works like slicing with a regular Series:"
   ]
  },
  {
   "cell_type": "code",
   "execution_count": 19,
   "metadata": {
    "scrolled": true
   },
   "outputs": [
    {
     "data": {
      "text/plain": [
       "2014-01-01   -0.581059\n",
       "2014-01-02   -0.626574\n",
       "2014-01-03    0.285798\n",
       "2014-01-04    0.436557\n",
       "2014-01-05    0.249141\n",
       "2014-01-06    0.248383\n",
       "2014-01-07   -0.270371\n",
       "2014-01-08   -1.209010\n",
       "2014-01-09    0.004494\n",
       "2014-01-10   -2.059895\n",
       "2014-01-11   -0.916560\n",
       "2014-01-12   -0.866008\n",
       "2014-01-13    0.289443\n",
       "2014-01-14    0.245898\n",
       "2014-01-15   -0.131810\n",
       "2014-01-16    0.488818\n",
       "2014-01-17    0.291183\n",
       "2014-01-18    0.186903\n",
       "2014-01-19    0.212818\n",
       "2014-01-20    1.240618\n",
       "2014-01-21    0.774390\n",
       "2014-01-22    0.904166\n",
       "2014-01-23    0.167843\n",
       "2014-01-24   -1.932781\n",
       "2014-01-25   -0.089920\n",
       "2014-01-26   -0.759111\n",
       "2014-01-27   -0.072015\n",
       "2014-01-28   -1.091258\n",
       "2014-01-29    0.612128\n",
       "2014-01-30   -0.171878\n",
       "2014-01-31   -0.544346\n",
       "2014-02-01    0.690956\n",
       "2014-02-02   -1.544420\n",
       "2014-02-03    0.666483\n",
       "2014-02-04    0.595745\n",
       "2014-02-05    0.435411\n",
       "2014-02-06    0.627232\n",
       "2014-02-07    0.251988\n",
       "2014-02-08    1.481643\n",
       "2014-02-09    0.515291\n",
       "2014-02-10    0.232096\n",
       "2014-02-11    0.930026\n",
       "2014-02-12    1.409060\n",
       "2014-02-13   -0.729496\n",
       "2014-02-14   -0.144229\n",
       "2014-02-15   -0.178375\n",
       "Freq: D, dtype: float64"
      ]
     },
     "execution_count": 19,
     "metadata": {},
     "output_type": "execute_result"
    }
   ],
   "source": [
    "longer_ts[:'2014-Feb-15']"
   ]
  },
  {
   "cell_type": "code",
   "execution_count": 20,
   "metadata": {},
   "outputs": [
    {
     "data": {
      "text/plain": [
       "2016-09-15   -0.092849\n",
       "2016-09-16   -0.281034\n",
       "2016-09-17    1.186484\n",
       "2016-09-18    0.414335\n",
       "2016-09-19   -0.836099\n",
       "2016-09-20    0.806664\n",
       "2016-09-21    0.801261\n",
       "2016-09-22    0.543293\n",
       "2016-09-23   -1.075291\n",
       "2016-09-24    0.227980\n",
       "2016-09-25   -0.344715\n",
       "2016-09-26   -1.659978\n",
       "Freq: D, dtype: float64"
      ]
     },
     "execution_count": 20,
     "metadata": {},
     "output_type": "execute_result"
    }
   ],
   "source": [
    "longer_ts['9/15/2016':]"
   ]
  },
  {
   "cell_type": "markdown",
   "metadata": {},
   "source": [
    "Because time series are usually ordered chronologically, you can slice using dates that aren't actually present in the index:"
   ]
  },
  {
   "cell_type": "code",
   "execution_count": 21,
   "metadata": {},
   "outputs": [
    {
     "data": {
      "text/plain": [
       "2017-01-02    1.013992\n",
       "2017-01-05   -0.544905\n",
       "2017-01-07   -1.324754\n",
       "2017-01-08   -0.020392\n",
       "2017-01-10    0.635246\n",
       "2017-01-12    0.251412\n",
       "dtype: float64"
      ]
     },
     "execution_count": 21,
     "metadata": {},
     "output_type": "execute_result"
    }
   ],
   "source": [
    "ts  # reminder"
   ]
  },
  {
   "cell_type": "code",
   "execution_count": 22,
   "metadata": {},
   "outputs": [
    {
     "data": {
      "text/plain": [
       "2017-01-05   -0.544905\n",
       "2017-01-07   -1.324754\n",
       "2017-01-08   -0.020392\n",
       "2017-01-10    0.635246\n",
       "dtype: float64"
      ]
     },
     "execution_count": 22,
     "metadata": {},
     "output_type": "execute_result"
    }
   ],
   "source": [
    "ts['1/3/2017':'1-11-17']"
   ]
  },
  {
   "cell_type": "markdown",
   "metadata": {},
   "source": [
    "Remember, slicing returns a view on the original, so modifying the slice modifies the original."
   ]
  },
  {
   "cell_type": "code",
   "execution_count": 44,
   "metadata": {},
   "outputs": [],
   "source": [
    "sl = ts['1/1/2017':'1/6/2017']"
   ]
  },
  {
   "cell_type": "code",
   "execution_count": 45,
   "metadata": {},
   "outputs": [],
   "source": [
    "sl['1/2/2017'] = 3.14159"
   ]
  },
  {
   "cell_type": "code",
   "execution_count": 46,
   "metadata": {},
   "outputs": [
    {
     "data": {
      "text/plain": [
       "2017-01-02    3.141590\n",
       "2017-01-05   -0.544905\n",
       "2017-01-07   -1.324754\n",
       "2017-01-08   -0.020392\n",
       "2017-01-10    0.635246\n",
       "2017-01-12    0.251412\n",
       "dtype: float64"
      ]
     },
     "execution_count": 46,
     "metadata": {},
     "output_type": "execute_result"
    }
   ],
   "source": [
    "ts"
   ]
  },
  {
   "cell_type": "markdown",
   "metadata": {},
   "source": [
    "but adding a new entry to the slice does not add to the original"
   ]
  },
  {
   "cell_type": "code",
   "execution_count": 47,
   "metadata": {},
   "outputs": [],
   "source": [
    "sl[datetime(2017,1,6)] = 2.781828"
   ]
  },
  {
   "cell_type": "code",
   "execution_count": 48,
   "metadata": {},
   "outputs": [
    {
     "data": {
      "text/plain": [
       "2017-01-02    3.141590\n",
       "2017-01-05   -0.544905\n",
       "2017-01-06    2.781828\n",
       "dtype: float64"
      ]
     },
     "execution_count": 48,
     "metadata": {},
     "output_type": "execute_result"
    }
   ],
   "source": [
    "sl"
   ]
  },
  {
   "cell_type": "code",
   "execution_count": 49,
   "metadata": {},
   "outputs": [
    {
     "data": {
      "text/plain": [
       "2017-01-02    3.141590\n",
       "2017-01-05   -0.544905\n",
       "2017-01-07   -1.324754\n",
       "2017-01-08   -0.020392\n",
       "2017-01-10    0.635246\n",
       "2017-01-12    0.251412\n",
       "dtype: float64"
      ]
     },
     "execution_count": 49,
     "metadata": {},
     "output_type": "execute_result"
    }
   ],
   "source": [
    "ts"
   ]
  },
  {
   "cell_type": "markdown",
   "metadata": {},
   "source": [
    "Note when **adding** to a time series, whether slice or original, you must supply a proper Datetime subscript, not a string:"
   ]
  },
  {
   "cell_type": "code",
   "execution_count": 50,
   "metadata": {},
   "outputs": [],
   "source": [
    "sl['1/3/2017'] = 1.11111"
   ]
  },
  {
   "cell_type": "code",
   "execution_count": 51,
   "metadata": {},
   "outputs": [
    {
     "data": {
      "text/plain": [
       "2017-01-02 00:00:00    3.141590\n",
       "2017-01-05 00:00:00   -0.544905\n",
       "2017-01-06 00:00:00    2.781828\n",
       "1/3/2017               1.111110\n",
       "dtype: float64"
      ]
     },
     "execution_count": 51,
     "metadata": {},
     "output_type": "execute_result"
    }
   ],
   "source": [
    "sl  # not inserted chronologically in the DatetimeIndex"
   ]
  },
  {
   "cell_type": "markdown",
   "metadata": {},
   "source": [
    "If you want, instead, to get a copy, not a view, use the awkwardly named `truncate()` method with no arguments."
   ]
  },
  {
   "cell_type": "code",
   "execution_count": 52,
   "metadata": {},
   "outputs": [],
   "source": [
    "ts2 = ts.truncate()  # makes a copy, can use arguments to restrict data before or after dates"
   ]
  },
  {
   "cell_type": "code",
   "execution_count": 53,
   "metadata": {},
   "outputs": [
    {
     "data": {
      "text/plain": [
       "2017-01-02    3.141590\n",
       "2017-01-05   -0.544905\n",
       "2017-01-07   -1.324754\n",
       "2017-01-08   -0.020392\n",
       "2017-01-10    0.635246\n",
       "2017-01-12    0.251412\n",
       "dtype: float64"
      ]
     },
     "execution_count": 53,
     "metadata": {},
     "output_type": "execute_result"
    }
   ],
   "source": [
    "ts2"
   ]
  },
  {
   "cell_type": "code",
   "execution_count": 54,
   "metadata": {},
   "outputs": [],
   "source": [
    "ts2['1/2/2017'] = 4  # alter the copy"
   ]
  },
  {
   "cell_type": "code",
   "execution_count": 55,
   "metadata": {},
   "outputs": [
    {
     "data": {
      "text/plain": [
       "2017-01-02    4.000000\n",
       "2017-01-05   -0.544905\n",
       "2017-01-07   -1.324754\n",
       "2017-01-08   -0.020392\n",
       "2017-01-10    0.635246\n",
       "2017-01-12    0.251412\n",
       "dtype: float64"
      ]
     },
     "execution_count": 55,
     "metadata": {},
     "output_type": "execute_result"
    }
   ],
   "source": [
    "ts2"
   ]
  },
  {
   "cell_type": "code",
   "execution_count": 56,
   "metadata": {},
   "outputs": [
    {
     "data": {
      "text/plain": [
       "2017-01-02    3.141590\n",
       "2017-01-05   -0.544905\n",
       "2017-01-07   -1.324754\n",
       "2017-01-08   -0.020392\n",
       "2017-01-10    0.635246\n",
       "2017-01-12    0.251412\n",
       "dtype: float64"
      ]
     },
     "execution_count": 56,
     "metadata": {},
     "output_type": "execute_result"
    }
   ],
   "source": [
    "ts  # doesn't affect the original"
   ]
  },
  {
   "cell_type": "markdown",
   "metadata": {},
   "source": [
    "### Slicing time series in DataFrames"
   ]
  },
  {
   "cell_type": "markdown",
   "metadata": {},
   "source": [
    "The above holds true for DataFrames as well."
   ]
  },
  {
   "cell_type": "code",
   "execution_count": 145,
   "metadata": {},
   "outputs": [
    {
     "data": {
      "text/plain": [
       "DatetimeIndex(['2014-01-01', '2014-01-08', '2014-01-15', '2014-01-22',\n",
       "               '2014-01-29', '2014-02-05', '2014-02-12', '2014-02-19',\n",
       "               '2014-02-26', '2014-03-05', '2014-03-12', '2014-03-19',\n",
       "               '2014-03-26', '2014-04-02', '2014-04-09', '2014-04-16',\n",
       "               '2014-04-23', '2014-04-30', '2014-05-07', '2014-05-14',\n",
       "               '2014-05-21', '2014-05-28', '2014-06-04', '2014-06-11',\n",
       "               '2014-06-18', '2014-06-25', '2014-07-02', '2014-07-09',\n",
       "               '2014-07-16', '2014-07-23', '2014-07-30', '2014-08-06',\n",
       "               '2014-08-13', '2014-08-20', '2014-08-27', '2014-09-03',\n",
       "               '2014-09-10', '2014-09-17', '2014-09-24', '2014-10-01',\n",
       "               '2014-10-08', '2014-10-15', '2014-10-22', '2014-10-29',\n",
       "               '2014-11-05', '2014-11-12', '2014-11-19', '2014-11-26',\n",
       "               '2014-12-03', '2014-12-10', '2014-12-17', '2014-12-24',\n",
       "               '2014-12-31', '2015-01-07', '2015-01-14', '2015-01-21',\n",
       "               '2015-01-28', '2015-02-04', '2015-02-11', '2015-02-18',\n",
       "               '2015-02-25', '2015-03-04', '2015-03-11', '2015-03-18',\n",
       "               '2015-03-25', '2015-04-01', '2015-04-08', '2015-04-15',\n",
       "               '2015-04-22', '2015-04-29', '2015-05-06', '2015-05-13',\n",
       "               '2015-05-20', '2015-05-27', '2015-06-03', '2015-06-10',\n",
       "               '2015-06-17', '2015-06-24', '2015-07-01', '2015-07-08',\n",
       "               '2015-07-15', '2015-07-22', '2015-07-29', '2015-08-05',\n",
       "               '2015-08-12', '2015-08-19', '2015-08-26', '2015-09-02',\n",
       "               '2015-09-09', '2015-09-16', '2015-09-23', '2015-09-30',\n",
       "               '2015-10-07', '2015-10-14', '2015-10-21', '2015-10-28',\n",
       "               '2015-11-04', '2015-11-11', '2015-11-18', '2015-11-25'],\n",
       "              dtype='datetime64[ns]', freq='W-WED')"
      ]
     },
     "execution_count": 145,
     "metadata": {},
     "output_type": "execute_result"
    }
   ],
   "source": [
    "dates = pd.date_range('1/1/2014', periods=100, freq='W-WED')\n",
    "dates"
   ]
  },
  {
   "cell_type": "code",
   "execution_count": 147,
   "metadata": {},
   "outputs": [],
   "source": [
    "long_df = pd.DataFrame(np.random.randn(100,4), columns=['California', 'Texas', 'New York', 'Florida'], index=dates)"
   ]
  },
  {
   "cell_type": "code",
   "execution_count": 148,
   "metadata": {},
   "outputs": [
    {
     "data": {
      "text/html": [
       "<div>\n",
       "<style>\n",
       "    .dataframe thead tr:only-child th {\n",
       "        text-align: right;\n",
       "    }\n",
       "\n",
       "    .dataframe thead th {\n",
       "        text-align: left;\n",
       "    }\n",
       "\n",
       "    .dataframe tbody tr th {\n",
       "        vertical-align: top;\n",
       "    }\n",
       "</style>\n",
       "<table border=\"1\" class=\"dataframe\">\n",
       "  <thead>\n",
       "    <tr style=\"text-align: right;\">\n",
       "      <th></th>\n",
       "      <th>California</th>\n",
       "      <th>Texas</th>\n",
       "      <th>New York</th>\n",
       "      <th>Florida</th>\n",
       "    </tr>\n",
       "  </thead>\n",
       "  <tbody>\n",
       "    <tr>\n",
       "      <th>2014-01-01</th>\n",
       "      <td>-0.670055</td>\n",
       "      <td>0.887765</td>\n",
       "      <td>0.046678</td>\n",
       "      <td>2.034517</td>\n",
       "    </tr>\n",
       "    <tr>\n",
       "      <th>2014-01-08</th>\n",
       "      <td>0.763195</td>\n",
       "      <td>-1.009497</td>\n",
       "      <td>0.343186</td>\n",
       "      <td>0.808925</td>\n",
       "    </tr>\n",
       "    <tr>\n",
       "      <th>2014-01-15</th>\n",
       "      <td>0.567926</td>\n",
       "      <td>-0.649508</td>\n",
       "      <td>0.301028</td>\n",
       "      <td>-1.183059</td>\n",
       "    </tr>\n",
       "    <tr>\n",
       "      <th>2014-01-22</th>\n",
       "      <td>1.029831</td>\n",
       "      <td>-0.357734</td>\n",
       "      <td>-0.256060</td>\n",
       "      <td>-0.789614</td>\n",
       "    </tr>\n",
       "    <tr>\n",
       "      <th>2014-01-29</th>\n",
       "      <td>0.441617</td>\n",
       "      <td>0.582626</td>\n",
       "      <td>0.546245</td>\n",
       "      <td>-0.036859</td>\n",
       "    </tr>\n",
       "    <tr>\n",
       "      <th>2014-02-05</th>\n",
       "      <td>0.102730</td>\n",
       "      <td>-0.013300</td>\n",
       "      <td>-0.592911</td>\n",
       "      <td>1.399227</td>\n",
       "    </tr>\n",
       "    <tr>\n",
       "      <th>2014-02-12</th>\n",
       "      <td>0.324932</td>\n",
       "      <td>-1.371970</td>\n",
       "      <td>0.430918</td>\n",
       "      <td>-0.582621</td>\n",
       "    </tr>\n",
       "    <tr>\n",
       "      <th>2014-02-19</th>\n",
       "      <td>-0.614318</td>\n",
       "      <td>0.519467</td>\n",
       "      <td>1.529626</td>\n",
       "      <td>0.525963</td>\n",
       "    </tr>\n",
       "    <tr>\n",
       "      <th>2014-02-26</th>\n",
       "      <td>1.050643</td>\n",
       "      <td>-0.623419</td>\n",
       "      <td>-1.511494</td>\n",
       "      <td>-1.424813</td>\n",
       "    </tr>\n",
       "    <tr>\n",
       "      <th>2014-03-05</th>\n",
       "      <td>-0.647939</td>\n",
       "      <td>0.360815</td>\n",
       "      <td>0.194534</td>\n",
       "      <td>-0.006605</td>\n",
       "    </tr>\n",
       "    <tr>\n",
       "      <th>2014-03-12</th>\n",
       "      <td>1.883304</td>\n",
       "      <td>-0.163079</td>\n",
       "      <td>0.802049</td>\n",
       "      <td>-1.020359</td>\n",
       "    </tr>\n",
       "    <tr>\n",
       "      <th>2014-03-19</th>\n",
       "      <td>-1.328516</td>\n",
       "      <td>-1.147734</td>\n",
       "      <td>-0.206244</td>\n",
       "      <td>-1.397381</td>\n",
       "    </tr>\n",
       "    <tr>\n",
       "      <th>2014-03-26</th>\n",
       "      <td>-0.185800</td>\n",
       "      <td>-0.099636</td>\n",
       "      <td>-1.490901</td>\n",
       "      <td>1.088448</td>\n",
       "    </tr>\n",
       "    <tr>\n",
       "      <th>2014-04-02</th>\n",
       "      <td>-0.471485</td>\n",
       "      <td>-0.173192</td>\n",
       "      <td>2.538425</td>\n",
       "      <td>0.696665</td>\n",
       "    </tr>\n",
       "    <tr>\n",
       "      <th>2014-04-09</th>\n",
       "      <td>0.928600</td>\n",
       "      <td>0.447417</td>\n",
       "      <td>0.055320</td>\n",
       "      <td>0.472662</td>\n",
       "    </tr>\n",
       "    <tr>\n",
       "      <th>2014-04-16</th>\n",
       "      <td>-0.317052</td>\n",
       "      <td>0.332184</td>\n",
       "      <td>1.337782</td>\n",
       "      <td>-0.937864</td>\n",
       "    </tr>\n",
       "    <tr>\n",
       "      <th>2014-04-23</th>\n",
       "      <td>0.052138</td>\n",
       "      <td>0.531489</td>\n",
       "      <td>-1.407206</td>\n",
       "      <td>0.463367</td>\n",
       "    </tr>\n",
       "    <tr>\n",
       "      <th>2014-04-30</th>\n",
       "      <td>-0.240915</td>\n",
       "      <td>-0.173741</td>\n",
       "      <td>0.108472</td>\n",
       "      <td>-1.344533</td>\n",
       "    </tr>\n",
       "    <tr>\n",
       "      <th>2014-05-07</th>\n",
       "      <td>0.985908</td>\n",
       "      <td>-1.419986</td>\n",
       "      <td>-0.796431</td>\n",
       "      <td>0.328848</td>\n",
       "    </tr>\n",
       "    <tr>\n",
       "      <th>2014-05-14</th>\n",
       "      <td>1.779332</td>\n",
       "      <td>0.490941</td>\n",
       "      <td>-1.574628</td>\n",
       "      <td>1.000226</td>\n",
       "    </tr>\n",
       "    <tr>\n",
       "      <th>2014-05-21</th>\n",
       "      <td>-1.414673</td>\n",
       "      <td>-1.386760</td>\n",
       "      <td>-0.592246</td>\n",
       "      <td>-1.305204</td>\n",
       "    </tr>\n",
       "    <tr>\n",
       "      <th>2014-05-28</th>\n",
       "      <td>-0.895228</td>\n",
       "      <td>0.528321</td>\n",
       "      <td>0.242124</td>\n",
       "      <td>-1.078025</td>\n",
       "    </tr>\n",
       "    <tr>\n",
       "      <th>2014-06-04</th>\n",
       "      <td>-1.320496</td>\n",
       "      <td>0.420959</td>\n",
       "      <td>0.234490</td>\n",
       "      <td>-0.467045</td>\n",
       "    </tr>\n",
       "    <tr>\n",
       "      <th>2014-06-11</th>\n",
       "      <td>0.591390</td>\n",
       "      <td>0.678435</td>\n",
       "      <td>-0.192539</td>\n",
       "      <td>-1.213658</td>\n",
       "    </tr>\n",
       "    <tr>\n",
       "      <th>2014-06-18</th>\n",
       "      <td>-2.041073</td>\n",
       "      <td>-0.009574</td>\n",
       "      <td>0.479112</td>\n",
       "      <td>-0.528043</td>\n",
       "    </tr>\n",
       "    <tr>\n",
       "      <th>2014-06-25</th>\n",
       "      <td>-0.564194</td>\n",
       "      <td>-1.034689</td>\n",
       "      <td>-0.447728</td>\n",
       "      <td>0.410828</td>\n",
       "    </tr>\n",
       "    <tr>\n",
       "      <th>2014-07-02</th>\n",
       "      <td>-0.264198</td>\n",
       "      <td>0.317137</td>\n",
       "      <td>0.682081</td>\n",
       "      <td>-0.044991</td>\n",
       "    </tr>\n",
       "    <tr>\n",
       "      <th>2014-07-09</th>\n",
       "      <td>2.139378</td>\n",
       "      <td>0.999078</td>\n",
       "      <td>0.349618</td>\n",
       "      <td>-2.258242</td>\n",
       "    </tr>\n",
       "    <tr>\n",
       "      <th>2014-07-16</th>\n",
       "      <td>-0.706273</td>\n",
       "      <td>0.299016</td>\n",
       "      <td>0.330351</td>\n",
       "      <td>-0.652751</td>\n",
       "    </tr>\n",
       "    <tr>\n",
       "      <th>2014-07-23</th>\n",
       "      <td>0.620980</td>\n",
       "      <td>-0.781152</td>\n",
       "      <td>-1.044361</td>\n",
       "      <td>-0.700761</td>\n",
       "    </tr>\n",
       "    <tr>\n",
       "      <th>...</th>\n",
       "      <td>...</td>\n",
       "      <td>...</td>\n",
       "      <td>...</td>\n",
       "      <td>...</td>\n",
       "    </tr>\n",
       "    <tr>\n",
       "      <th>2015-05-06</th>\n",
       "      <td>-0.035837</td>\n",
       "      <td>-0.931344</td>\n",
       "      <td>0.313048</td>\n",
       "      <td>0.605522</td>\n",
       "    </tr>\n",
       "    <tr>\n",
       "      <th>2015-05-13</th>\n",
       "      <td>-0.084859</td>\n",
       "      <td>1.251015</td>\n",
       "      <td>2.058171</td>\n",
       "      <td>-0.207379</td>\n",
       "    </tr>\n",
       "    <tr>\n",
       "      <th>2015-05-20</th>\n",
       "      <td>-0.206285</td>\n",
       "      <td>-1.292480</td>\n",
       "      <td>0.095645</td>\n",
       "      <td>-1.584340</td>\n",
       "    </tr>\n",
       "    <tr>\n",
       "      <th>2015-05-27</th>\n",
       "      <td>-0.932938</td>\n",
       "      <td>0.469286</td>\n",
       "      <td>1.594331</td>\n",
       "      <td>-0.879406</td>\n",
       "    </tr>\n",
       "    <tr>\n",
       "      <th>2015-06-03</th>\n",
       "      <td>-1.222327</td>\n",
       "      <td>0.215345</td>\n",
       "      <td>-0.943071</td>\n",
       "      <td>-0.690301</td>\n",
       "    </tr>\n",
       "    <tr>\n",
       "      <th>2015-06-10</th>\n",
       "      <td>-0.930289</td>\n",
       "      <td>0.275847</td>\n",
       "      <td>-0.515775</td>\n",
       "      <td>-0.196120</td>\n",
       "    </tr>\n",
       "    <tr>\n",
       "      <th>2015-06-17</th>\n",
       "      <td>0.233652</td>\n",
       "      <td>-1.420764</td>\n",
       "      <td>-0.204499</td>\n",
       "      <td>-1.230919</td>\n",
       "    </tr>\n",
       "    <tr>\n",
       "      <th>2015-06-24</th>\n",
       "      <td>-0.075870</td>\n",
       "      <td>1.414713</td>\n",
       "      <td>-1.724532</td>\n",
       "      <td>-0.214290</td>\n",
       "    </tr>\n",
       "    <tr>\n",
       "      <th>2015-07-01</th>\n",
       "      <td>-1.011935</td>\n",
       "      <td>0.299693</td>\n",
       "      <td>0.625892</td>\n",
       "      <td>1.132355</td>\n",
       "    </tr>\n",
       "    <tr>\n",
       "      <th>2015-07-08</th>\n",
       "      <td>0.126574</td>\n",
       "      <td>-0.696162</td>\n",
       "      <td>-0.359065</td>\n",
       "      <td>-0.285593</td>\n",
       "    </tr>\n",
       "    <tr>\n",
       "      <th>2015-07-15</th>\n",
       "      <td>-0.055311</td>\n",
       "      <td>-0.762179</td>\n",
       "      <td>0.674745</td>\n",
       "      <td>1.917619</td>\n",
       "    </tr>\n",
       "    <tr>\n",
       "      <th>2015-07-22</th>\n",
       "      <td>1.260957</td>\n",
       "      <td>0.305697</td>\n",
       "      <td>-0.515664</td>\n",
       "      <td>0.153019</td>\n",
       "    </tr>\n",
       "    <tr>\n",
       "      <th>2015-07-29</th>\n",
       "      <td>-1.104615</td>\n",
       "      <td>0.707680</td>\n",
       "      <td>1.884046</td>\n",
       "      <td>-0.619463</td>\n",
       "    </tr>\n",
       "    <tr>\n",
       "      <th>2015-08-05</th>\n",
       "      <td>0.544672</td>\n",
       "      <td>-1.169498</td>\n",
       "      <td>0.596024</td>\n",
       "      <td>0.549084</td>\n",
       "    </tr>\n",
       "    <tr>\n",
       "      <th>2015-08-12</th>\n",
       "      <td>1.495104</td>\n",
       "      <td>-0.582083</td>\n",
       "      <td>0.694864</td>\n",
       "      <td>0.778727</td>\n",
       "    </tr>\n",
       "    <tr>\n",
       "      <th>2015-08-19</th>\n",
       "      <td>-1.562557</td>\n",
       "      <td>0.370357</td>\n",
       "      <td>-0.037172</td>\n",
       "      <td>0.675588</td>\n",
       "    </tr>\n",
       "    <tr>\n",
       "      <th>2015-08-26</th>\n",
       "      <td>-0.446703</td>\n",
       "      <td>0.731919</td>\n",
       "      <td>-1.708521</td>\n",
       "      <td>0.564574</td>\n",
       "    </tr>\n",
       "    <tr>\n",
       "      <th>2015-09-02</th>\n",
       "      <td>0.241940</td>\n",
       "      <td>0.163498</td>\n",
       "      <td>-1.862696</td>\n",
       "      <td>0.415779</td>\n",
       "    </tr>\n",
       "    <tr>\n",
       "      <th>2015-09-09</th>\n",
       "      <td>-2.296901</td>\n",
       "      <td>-0.563720</td>\n",
       "      <td>1.324903</td>\n",
       "      <td>-1.095282</td>\n",
       "    </tr>\n",
       "    <tr>\n",
       "      <th>2015-09-16</th>\n",
       "      <td>0.442306</td>\n",
       "      <td>1.355271</td>\n",
       "      <td>-1.124563</td>\n",
       "      <td>-0.290335</td>\n",
       "    </tr>\n",
       "    <tr>\n",
       "      <th>2015-09-23</th>\n",
       "      <td>-0.310402</td>\n",
       "      <td>0.132168</td>\n",
       "      <td>1.050179</td>\n",
       "      <td>-0.643694</td>\n",
       "    </tr>\n",
       "    <tr>\n",
       "      <th>2015-09-30</th>\n",
       "      <td>-1.246879</td>\n",
       "      <td>1.287341</td>\n",
       "      <td>0.865977</td>\n",
       "      <td>-1.364445</td>\n",
       "    </tr>\n",
       "    <tr>\n",
       "      <th>2015-10-07</th>\n",
       "      <td>0.723050</td>\n",
       "      <td>0.588241</td>\n",
       "      <td>1.144880</td>\n",
       "      <td>0.168754</td>\n",
       "    </tr>\n",
       "    <tr>\n",
       "      <th>2015-10-14</th>\n",
       "      <td>-0.357534</td>\n",
       "      <td>0.191892</td>\n",
       "      <td>-2.103178</td>\n",
       "      <td>-0.537545</td>\n",
       "    </tr>\n",
       "    <tr>\n",
       "      <th>2015-10-21</th>\n",
       "      <td>0.765098</td>\n",
       "      <td>-0.893700</td>\n",
       "      <td>0.149578</td>\n",
       "      <td>-1.427956</td>\n",
       "    </tr>\n",
       "    <tr>\n",
       "      <th>2015-10-28</th>\n",
       "      <td>-2.301114</td>\n",
       "      <td>0.175801</td>\n",
       "      <td>-1.972059</td>\n",
       "      <td>-0.042373</td>\n",
       "    </tr>\n",
       "    <tr>\n",
       "      <th>2015-11-04</th>\n",
       "      <td>-0.521228</td>\n",
       "      <td>-1.491611</td>\n",
       "      <td>0.238031</td>\n",
       "      <td>0.630240</td>\n",
       "    </tr>\n",
       "    <tr>\n",
       "      <th>2015-11-11</th>\n",
       "      <td>0.255590</td>\n",
       "      <td>-0.960154</td>\n",
       "      <td>-0.004225</td>\n",
       "      <td>1.170644</td>\n",
       "    </tr>\n",
       "    <tr>\n",
       "      <th>2015-11-18</th>\n",
       "      <td>0.822972</td>\n",
       "      <td>0.429818</td>\n",
       "      <td>-0.007667</td>\n",
       "      <td>-0.290294</td>\n",
       "    </tr>\n",
       "    <tr>\n",
       "      <th>2015-11-25</th>\n",
       "      <td>0.969651</td>\n",
       "      <td>0.337200</td>\n",
       "      <td>-0.160983</td>\n",
       "      <td>-0.858754</td>\n",
       "    </tr>\n",
       "  </tbody>\n",
       "</table>\n",
       "<p>100 rows × 4 columns</p>\n",
       "</div>"
      ],
      "text/plain": [
       "            California     Texas  New York   Florida\n",
       "2014-01-01   -0.670055  0.887765  0.046678  2.034517\n",
       "2014-01-08    0.763195 -1.009497  0.343186  0.808925\n",
       "2014-01-15    0.567926 -0.649508  0.301028 -1.183059\n",
       "2014-01-22    1.029831 -0.357734 -0.256060 -0.789614\n",
       "2014-01-29    0.441617  0.582626  0.546245 -0.036859\n",
       "2014-02-05    0.102730 -0.013300 -0.592911  1.399227\n",
       "2014-02-12    0.324932 -1.371970  0.430918 -0.582621\n",
       "2014-02-19   -0.614318  0.519467  1.529626  0.525963\n",
       "2014-02-26    1.050643 -0.623419 -1.511494 -1.424813\n",
       "2014-03-05   -0.647939  0.360815  0.194534 -0.006605\n",
       "2014-03-12    1.883304 -0.163079  0.802049 -1.020359\n",
       "2014-03-19   -1.328516 -1.147734 -0.206244 -1.397381\n",
       "2014-03-26   -0.185800 -0.099636 -1.490901  1.088448\n",
       "2014-04-02   -0.471485 -0.173192  2.538425  0.696665\n",
       "2014-04-09    0.928600  0.447417  0.055320  0.472662\n",
       "2014-04-16   -0.317052  0.332184  1.337782 -0.937864\n",
       "2014-04-23    0.052138  0.531489 -1.407206  0.463367\n",
       "2014-04-30   -0.240915 -0.173741  0.108472 -1.344533\n",
       "2014-05-07    0.985908 -1.419986 -0.796431  0.328848\n",
       "2014-05-14    1.779332  0.490941 -1.574628  1.000226\n",
       "2014-05-21   -1.414673 -1.386760 -0.592246 -1.305204\n",
       "2014-05-28   -0.895228  0.528321  0.242124 -1.078025\n",
       "2014-06-04   -1.320496  0.420959  0.234490 -0.467045\n",
       "2014-06-11    0.591390  0.678435 -0.192539 -1.213658\n",
       "2014-06-18   -2.041073 -0.009574  0.479112 -0.528043\n",
       "2014-06-25   -0.564194 -1.034689 -0.447728  0.410828\n",
       "2014-07-02   -0.264198  0.317137  0.682081 -0.044991\n",
       "2014-07-09    2.139378  0.999078  0.349618 -2.258242\n",
       "2014-07-16   -0.706273  0.299016  0.330351 -0.652751\n",
       "2014-07-23    0.620980 -0.781152 -1.044361 -0.700761\n",
       "...                ...       ...       ...       ...\n",
       "2015-05-06   -0.035837 -0.931344  0.313048  0.605522\n",
       "2015-05-13   -0.084859  1.251015  2.058171 -0.207379\n",
       "2015-05-20   -0.206285 -1.292480  0.095645 -1.584340\n",
       "2015-05-27   -0.932938  0.469286  1.594331 -0.879406\n",
       "2015-06-03   -1.222327  0.215345 -0.943071 -0.690301\n",
       "2015-06-10   -0.930289  0.275847 -0.515775 -0.196120\n",
       "2015-06-17    0.233652 -1.420764 -0.204499 -1.230919\n",
       "2015-06-24   -0.075870  1.414713 -1.724532 -0.214290\n",
       "2015-07-01   -1.011935  0.299693  0.625892  1.132355\n",
       "2015-07-08    0.126574 -0.696162 -0.359065 -0.285593\n",
       "2015-07-15   -0.055311 -0.762179  0.674745  1.917619\n",
       "2015-07-22    1.260957  0.305697 -0.515664  0.153019\n",
       "2015-07-29   -1.104615  0.707680  1.884046 -0.619463\n",
       "2015-08-05    0.544672 -1.169498  0.596024  0.549084\n",
       "2015-08-12    1.495104 -0.582083  0.694864  0.778727\n",
       "2015-08-19   -1.562557  0.370357 -0.037172  0.675588\n",
       "2015-08-26   -0.446703  0.731919 -1.708521  0.564574\n",
       "2015-09-02    0.241940  0.163498 -1.862696  0.415779\n",
       "2015-09-09   -2.296901 -0.563720  1.324903 -1.095282\n",
       "2015-09-16    0.442306  1.355271 -1.124563 -0.290335\n",
       "2015-09-23   -0.310402  0.132168  1.050179 -0.643694\n",
       "2015-09-30   -1.246879  1.287341  0.865977 -1.364445\n",
       "2015-10-07    0.723050  0.588241  1.144880  0.168754\n",
       "2015-10-14   -0.357534  0.191892 -2.103178 -0.537545\n",
       "2015-10-21    0.765098 -0.893700  0.149578 -1.427956\n",
       "2015-10-28   -2.301114  0.175801 -1.972059 -0.042373\n",
       "2015-11-04   -0.521228 -1.491611  0.238031  0.630240\n",
       "2015-11-11    0.255590 -0.960154 -0.004225  1.170644\n",
       "2015-11-18    0.822972  0.429818 -0.007667 -0.290294\n",
       "2015-11-25    0.969651  0.337200 -0.160983 -0.858754\n",
       "\n",
       "[100 rows x 4 columns]"
      ]
     },
     "execution_count": 148,
     "metadata": {},
     "output_type": "execute_result"
    }
   ],
   "source": [
    "long_df"
   ]
  },
  {
   "cell_type": "code",
   "execution_count": 149,
   "metadata": {},
   "outputs": [
    {
     "data": {
      "text/html": [
       "<div>\n",
       "<style>\n",
       "    .dataframe thead tr:only-child th {\n",
       "        text-align: right;\n",
       "    }\n",
       "\n",
       "    .dataframe thead th {\n",
       "        text-align: left;\n",
       "    }\n",
       "\n",
       "    .dataframe tbody tr th {\n",
       "        vertical-align: top;\n",
       "    }\n",
       "</style>\n",
       "<table border=\"1\" class=\"dataframe\">\n",
       "  <thead>\n",
       "    <tr style=\"text-align: right;\">\n",
       "      <th></th>\n",
       "      <th>California</th>\n",
       "      <th>Texas</th>\n",
       "      <th>New York</th>\n",
       "      <th>Florida</th>\n",
       "    </tr>\n",
       "  </thead>\n",
       "  <tbody>\n",
       "    <tr>\n",
       "      <th>2015-01-07</th>\n",
       "      <td>-0.253776</td>\n",
       "      <td>-2.051296</td>\n",
       "      <td>-0.953472</td>\n",
       "      <td>-0.308618</td>\n",
       "    </tr>\n",
       "    <tr>\n",
       "      <th>2015-01-14</th>\n",
       "      <td>-1.431190</td>\n",
       "      <td>-1.731018</td>\n",
       "      <td>0.970498</td>\n",
       "      <td>0.916734</td>\n",
       "    </tr>\n",
       "    <tr>\n",
       "      <th>2015-01-21</th>\n",
       "      <td>0.831249</td>\n",
       "      <td>-1.129123</td>\n",
       "      <td>0.114963</td>\n",
       "      <td>-0.976705</td>\n",
       "    </tr>\n",
       "    <tr>\n",
       "      <th>2015-01-28</th>\n",
       "      <td>-0.677658</td>\n",
       "      <td>0.303644</td>\n",
       "      <td>-0.331522</td>\n",
       "      <td>0.657884</td>\n",
       "    </tr>\n",
       "    <tr>\n",
       "      <th>2015-02-04</th>\n",
       "      <td>2.541704</td>\n",
       "      <td>-0.663811</td>\n",
       "      <td>1.373684</td>\n",
       "      <td>1.396331</td>\n",
       "    </tr>\n",
       "    <tr>\n",
       "      <th>2015-02-11</th>\n",
       "      <td>-0.867030</td>\n",
       "      <td>1.726744</td>\n",
       "      <td>-0.018520</td>\n",
       "      <td>0.996996</td>\n",
       "    </tr>\n",
       "    <tr>\n",
       "      <th>2015-02-18</th>\n",
       "      <td>-0.583344</td>\n",
       "      <td>-0.756376</td>\n",
       "      <td>0.154717</td>\n",
       "      <td>-0.980414</td>\n",
       "    </tr>\n",
       "    <tr>\n",
       "      <th>2015-02-25</th>\n",
       "      <td>-0.231362</td>\n",
       "      <td>0.566808</td>\n",
       "      <td>-0.867567</td>\n",
       "      <td>-1.128934</td>\n",
       "    </tr>\n",
       "    <tr>\n",
       "      <th>2015-03-04</th>\n",
       "      <td>0.021171</td>\n",
       "      <td>0.671597</td>\n",
       "      <td>0.389465</td>\n",
       "      <td>0.683615</td>\n",
       "    </tr>\n",
       "    <tr>\n",
       "      <th>2015-03-11</th>\n",
       "      <td>0.463642</td>\n",
       "      <td>-0.965461</td>\n",
       "      <td>1.663242</td>\n",
       "      <td>1.122066</td>\n",
       "    </tr>\n",
       "    <tr>\n",
       "      <th>2015-03-18</th>\n",
       "      <td>0.310114</td>\n",
       "      <td>-0.184744</td>\n",
       "      <td>-1.070936</td>\n",
       "      <td>-1.287324</td>\n",
       "    </tr>\n",
       "    <tr>\n",
       "      <th>2015-03-25</th>\n",
       "      <td>0.695630</td>\n",
       "      <td>-0.207325</td>\n",
       "      <td>0.118502</td>\n",
       "      <td>0.311367</td>\n",
       "    </tr>\n",
       "    <tr>\n",
       "      <th>2015-04-01</th>\n",
       "      <td>0.039606</td>\n",
       "      <td>1.780953</td>\n",
       "      <td>-0.085437</td>\n",
       "      <td>-1.565371</td>\n",
       "    </tr>\n",
       "    <tr>\n",
       "      <th>2015-04-08</th>\n",
       "      <td>-1.473733</td>\n",
       "      <td>-0.092036</td>\n",
       "      <td>-0.021474</td>\n",
       "      <td>1.309292</td>\n",
       "    </tr>\n",
       "    <tr>\n",
       "      <th>2015-04-15</th>\n",
       "      <td>1.081818</td>\n",
       "      <td>-0.422955</td>\n",
       "      <td>-0.312514</td>\n",
       "      <td>-0.655529</td>\n",
       "    </tr>\n",
       "    <tr>\n",
       "      <th>2015-04-22</th>\n",
       "      <td>0.580091</td>\n",
       "      <td>-1.823223</td>\n",
       "      <td>0.300733</td>\n",
       "      <td>-0.840942</td>\n",
       "    </tr>\n",
       "    <tr>\n",
       "      <th>2015-04-29</th>\n",
       "      <td>0.432680</td>\n",
       "      <td>-0.814402</td>\n",
       "      <td>0.874517</td>\n",
       "      <td>0.468417</td>\n",
       "    </tr>\n",
       "    <tr>\n",
       "      <th>2015-05-06</th>\n",
       "      <td>-0.035837</td>\n",
       "      <td>-0.931344</td>\n",
       "      <td>0.313048</td>\n",
       "      <td>0.605522</td>\n",
       "    </tr>\n",
       "    <tr>\n",
       "      <th>2015-05-13</th>\n",
       "      <td>-0.084859</td>\n",
       "      <td>1.251015</td>\n",
       "      <td>2.058171</td>\n",
       "      <td>-0.207379</td>\n",
       "    </tr>\n",
       "    <tr>\n",
       "      <th>2015-05-20</th>\n",
       "      <td>-0.206285</td>\n",
       "      <td>-1.292480</td>\n",
       "      <td>0.095645</td>\n",
       "      <td>-1.584340</td>\n",
       "    </tr>\n",
       "    <tr>\n",
       "      <th>2015-05-27</th>\n",
       "      <td>-0.932938</td>\n",
       "      <td>0.469286</td>\n",
       "      <td>1.594331</td>\n",
       "      <td>-0.879406</td>\n",
       "    </tr>\n",
       "    <tr>\n",
       "      <th>2015-06-03</th>\n",
       "      <td>-1.222327</td>\n",
       "      <td>0.215345</td>\n",
       "      <td>-0.943071</td>\n",
       "      <td>-0.690301</td>\n",
       "    </tr>\n",
       "    <tr>\n",
       "      <th>2015-06-10</th>\n",
       "      <td>-0.930289</td>\n",
       "      <td>0.275847</td>\n",
       "      <td>-0.515775</td>\n",
       "      <td>-0.196120</td>\n",
       "    </tr>\n",
       "    <tr>\n",
       "      <th>2015-06-17</th>\n",
       "      <td>0.233652</td>\n",
       "      <td>-1.420764</td>\n",
       "      <td>-0.204499</td>\n",
       "      <td>-1.230919</td>\n",
       "    </tr>\n",
       "    <tr>\n",
       "      <th>2015-06-24</th>\n",
       "      <td>-0.075870</td>\n",
       "      <td>1.414713</td>\n",
       "      <td>-1.724532</td>\n",
       "      <td>-0.214290</td>\n",
       "    </tr>\n",
       "    <tr>\n",
       "      <th>2015-07-01</th>\n",
       "      <td>-1.011935</td>\n",
       "      <td>0.299693</td>\n",
       "      <td>0.625892</td>\n",
       "      <td>1.132355</td>\n",
       "    </tr>\n",
       "    <tr>\n",
       "      <th>2015-07-08</th>\n",
       "      <td>0.126574</td>\n",
       "      <td>-0.696162</td>\n",
       "      <td>-0.359065</td>\n",
       "      <td>-0.285593</td>\n",
       "    </tr>\n",
       "    <tr>\n",
       "      <th>2015-07-15</th>\n",
       "      <td>-0.055311</td>\n",
       "      <td>-0.762179</td>\n",
       "      <td>0.674745</td>\n",
       "      <td>1.917619</td>\n",
       "    </tr>\n",
       "    <tr>\n",
       "      <th>2015-07-22</th>\n",
       "      <td>1.260957</td>\n",
       "      <td>0.305697</td>\n",
       "      <td>-0.515664</td>\n",
       "      <td>0.153019</td>\n",
       "    </tr>\n",
       "    <tr>\n",
       "      <th>2015-07-29</th>\n",
       "      <td>-1.104615</td>\n",
       "      <td>0.707680</td>\n",
       "      <td>1.884046</td>\n",
       "      <td>-0.619463</td>\n",
       "    </tr>\n",
       "    <tr>\n",
       "      <th>2015-08-05</th>\n",
       "      <td>0.544672</td>\n",
       "      <td>-1.169498</td>\n",
       "      <td>0.596024</td>\n",
       "      <td>0.549084</td>\n",
       "    </tr>\n",
       "    <tr>\n",
       "      <th>2015-08-12</th>\n",
       "      <td>1.495104</td>\n",
       "      <td>-0.582083</td>\n",
       "      <td>0.694864</td>\n",
       "      <td>0.778727</td>\n",
       "    </tr>\n",
       "    <tr>\n",
       "      <th>2015-08-19</th>\n",
       "      <td>-1.562557</td>\n",
       "      <td>0.370357</td>\n",
       "      <td>-0.037172</td>\n",
       "      <td>0.675588</td>\n",
       "    </tr>\n",
       "    <tr>\n",
       "      <th>2015-08-26</th>\n",
       "      <td>-0.446703</td>\n",
       "      <td>0.731919</td>\n",
       "      <td>-1.708521</td>\n",
       "      <td>0.564574</td>\n",
       "    </tr>\n",
       "    <tr>\n",
       "      <th>2015-09-02</th>\n",
       "      <td>0.241940</td>\n",
       "      <td>0.163498</td>\n",
       "      <td>-1.862696</td>\n",
       "      <td>0.415779</td>\n",
       "    </tr>\n",
       "    <tr>\n",
       "      <th>2015-09-09</th>\n",
       "      <td>-2.296901</td>\n",
       "      <td>-0.563720</td>\n",
       "      <td>1.324903</td>\n",
       "      <td>-1.095282</td>\n",
       "    </tr>\n",
       "    <tr>\n",
       "      <th>2015-09-16</th>\n",
       "      <td>0.442306</td>\n",
       "      <td>1.355271</td>\n",
       "      <td>-1.124563</td>\n",
       "      <td>-0.290335</td>\n",
       "    </tr>\n",
       "    <tr>\n",
       "      <th>2015-09-23</th>\n",
       "      <td>-0.310402</td>\n",
       "      <td>0.132168</td>\n",
       "      <td>1.050179</td>\n",
       "      <td>-0.643694</td>\n",
       "    </tr>\n",
       "    <tr>\n",
       "      <th>2015-09-30</th>\n",
       "      <td>-1.246879</td>\n",
       "      <td>1.287341</td>\n",
       "      <td>0.865977</td>\n",
       "      <td>-1.364445</td>\n",
       "    </tr>\n",
       "    <tr>\n",
       "      <th>2015-10-07</th>\n",
       "      <td>0.723050</td>\n",
       "      <td>0.588241</td>\n",
       "      <td>1.144880</td>\n",
       "      <td>0.168754</td>\n",
       "    </tr>\n",
       "    <tr>\n",
       "      <th>2015-10-14</th>\n",
       "      <td>-0.357534</td>\n",
       "      <td>0.191892</td>\n",
       "      <td>-2.103178</td>\n",
       "      <td>-0.537545</td>\n",
       "    </tr>\n",
       "    <tr>\n",
       "      <th>2015-10-21</th>\n",
       "      <td>0.765098</td>\n",
       "      <td>-0.893700</td>\n",
       "      <td>0.149578</td>\n",
       "      <td>-1.427956</td>\n",
       "    </tr>\n",
       "    <tr>\n",
       "      <th>2015-10-28</th>\n",
       "      <td>-2.301114</td>\n",
       "      <td>0.175801</td>\n",
       "      <td>-1.972059</td>\n",
       "      <td>-0.042373</td>\n",
       "    </tr>\n",
       "    <tr>\n",
       "      <th>2015-11-04</th>\n",
       "      <td>-0.521228</td>\n",
       "      <td>-1.491611</td>\n",
       "      <td>0.238031</td>\n",
       "      <td>0.630240</td>\n",
       "    </tr>\n",
       "    <tr>\n",
       "      <th>2015-11-11</th>\n",
       "      <td>0.255590</td>\n",
       "      <td>-0.960154</td>\n",
       "      <td>-0.004225</td>\n",
       "      <td>1.170644</td>\n",
       "    </tr>\n",
       "    <tr>\n",
       "      <th>2015-11-18</th>\n",
       "      <td>0.822972</td>\n",
       "      <td>0.429818</td>\n",
       "      <td>-0.007667</td>\n",
       "      <td>-0.290294</td>\n",
       "    </tr>\n",
       "    <tr>\n",
       "      <th>2015-11-25</th>\n",
       "      <td>0.969651</td>\n",
       "      <td>0.337200</td>\n",
       "      <td>-0.160983</td>\n",
       "      <td>-0.858754</td>\n",
       "    </tr>\n",
       "  </tbody>\n",
       "</table>\n",
       "</div>"
      ],
      "text/plain": [
       "            California     Texas  New York   Florida\n",
       "2015-01-07   -0.253776 -2.051296 -0.953472 -0.308618\n",
       "2015-01-14   -1.431190 -1.731018  0.970498  0.916734\n",
       "2015-01-21    0.831249 -1.129123  0.114963 -0.976705\n",
       "2015-01-28   -0.677658  0.303644 -0.331522  0.657884\n",
       "2015-02-04    2.541704 -0.663811  1.373684  1.396331\n",
       "2015-02-11   -0.867030  1.726744 -0.018520  0.996996\n",
       "2015-02-18   -0.583344 -0.756376  0.154717 -0.980414\n",
       "2015-02-25   -0.231362  0.566808 -0.867567 -1.128934\n",
       "2015-03-04    0.021171  0.671597  0.389465  0.683615\n",
       "2015-03-11    0.463642 -0.965461  1.663242  1.122066\n",
       "2015-03-18    0.310114 -0.184744 -1.070936 -1.287324\n",
       "2015-03-25    0.695630 -0.207325  0.118502  0.311367\n",
       "2015-04-01    0.039606  1.780953 -0.085437 -1.565371\n",
       "2015-04-08   -1.473733 -0.092036 -0.021474  1.309292\n",
       "2015-04-15    1.081818 -0.422955 -0.312514 -0.655529\n",
       "2015-04-22    0.580091 -1.823223  0.300733 -0.840942\n",
       "2015-04-29    0.432680 -0.814402  0.874517  0.468417\n",
       "2015-05-06   -0.035837 -0.931344  0.313048  0.605522\n",
       "2015-05-13   -0.084859  1.251015  2.058171 -0.207379\n",
       "2015-05-20   -0.206285 -1.292480  0.095645 -1.584340\n",
       "2015-05-27   -0.932938  0.469286  1.594331 -0.879406\n",
       "2015-06-03   -1.222327  0.215345 -0.943071 -0.690301\n",
       "2015-06-10   -0.930289  0.275847 -0.515775 -0.196120\n",
       "2015-06-17    0.233652 -1.420764 -0.204499 -1.230919\n",
       "2015-06-24   -0.075870  1.414713 -1.724532 -0.214290\n",
       "2015-07-01   -1.011935  0.299693  0.625892  1.132355\n",
       "2015-07-08    0.126574 -0.696162 -0.359065 -0.285593\n",
       "2015-07-15   -0.055311 -0.762179  0.674745  1.917619\n",
       "2015-07-22    1.260957  0.305697 -0.515664  0.153019\n",
       "2015-07-29   -1.104615  0.707680  1.884046 -0.619463\n",
       "2015-08-05    0.544672 -1.169498  0.596024  0.549084\n",
       "2015-08-12    1.495104 -0.582083  0.694864  0.778727\n",
       "2015-08-19   -1.562557  0.370357 -0.037172  0.675588\n",
       "2015-08-26   -0.446703  0.731919 -1.708521  0.564574\n",
       "2015-09-02    0.241940  0.163498 -1.862696  0.415779\n",
       "2015-09-09   -2.296901 -0.563720  1.324903 -1.095282\n",
       "2015-09-16    0.442306  1.355271 -1.124563 -0.290335\n",
       "2015-09-23   -0.310402  0.132168  1.050179 -0.643694\n",
       "2015-09-30   -1.246879  1.287341  0.865977 -1.364445\n",
       "2015-10-07    0.723050  0.588241  1.144880  0.168754\n",
       "2015-10-14   -0.357534  0.191892 -2.103178 -0.537545\n",
       "2015-10-21    0.765098 -0.893700  0.149578 -1.427956\n",
       "2015-10-28   -2.301114  0.175801 -1.972059 -0.042373\n",
       "2015-11-04   -0.521228 -1.491611  0.238031  0.630240\n",
       "2015-11-11    0.255590 -0.960154 -0.004225  1.170644\n",
       "2015-11-18    0.822972  0.429818 -0.007667 -0.290294\n",
       "2015-11-25    0.969651  0.337200 -0.160983 -0.858754"
      ]
     },
     "execution_count": 149,
     "metadata": {},
     "output_type": "execute_result"
    }
   ],
   "source": [
    "long_df['2015']"
   ]
  },
  {
   "cell_type": "code",
   "execution_count": 150,
   "metadata": {},
   "outputs": [
    {
     "data": {
      "text/html": [
       "<div>\n",
       "<style>\n",
       "    .dataframe thead tr:only-child th {\n",
       "        text-align: right;\n",
       "    }\n",
       "\n",
       "    .dataframe thead th {\n",
       "        text-align: left;\n",
       "    }\n",
       "\n",
       "    .dataframe tbody tr th {\n",
       "        vertical-align: top;\n",
       "    }\n",
       "</style>\n",
       "<table border=\"1\" class=\"dataframe\">\n",
       "  <thead>\n",
       "    <tr style=\"text-align: right;\">\n",
       "      <th></th>\n",
       "      <th>California</th>\n",
       "      <th>Texas</th>\n",
       "      <th>New York</th>\n",
       "      <th>Florida</th>\n",
       "    </tr>\n",
       "  </thead>\n",
       "  <tbody>\n",
       "    <tr>\n",
       "      <th>2015-08-05</th>\n",
       "      <td>0.544672</td>\n",
       "      <td>-1.169498</td>\n",
       "      <td>0.596024</td>\n",
       "      <td>0.549084</td>\n",
       "    </tr>\n",
       "    <tr>\n",
       "      <th>2015-08-12</th>\n",
       "      <td>1.495104</td>\n",
       "      <td>-0.582083</td>\n",
       "      <td>0.694864</td>\n",
       "      <td>0.778727</td>\n",
       "    </tr>\n",
       "    <tr>\n",
       "      <th>2015-08-19</th>\n",
       "      <td>-1.562557</td>\n",
       "      <td>0.370357</td>\n",
       "      <td>-0.037172</td>\n",
       "      <td>0.675588</td>\n",
       "    </tr>\n",
       "    <tr>\n",
       "      <th>2015-08-26</th>\n",
       "      <td>-0.446703</td>\n",
       "      <td>0.731919</td>\n",
       "      <td>-1.708521</td>\n",
       "      <td>0.564574</td>\n",
       "    </tr>\n",
       "  </tbody>\n",
       "</table>\n",
       "</div>"
      ],
      "text/plain": [
       "            California     Texas  New York   Florida\n",
       "2015-08-05    0.544672 -1.169498  0.596024  0.549084\n",
       "2015-08-12    1.495104 -0.582083  0.694864  0.778727\n",
       "2015-08-19   -1.562557  0.370357 -0.037172  0.675588\n",
       "2015-08-26   -0.446703  0.731919 -1.708521  0.564574"
      ]
     },
     "execution_count": 150,
     "metadata": {},
     "output_type": "execute_result"
    }
   ],
   "source": [
    "long_df['Aug-2015']"
   ]
  },
  {
   "cell_type": "code",
   "execution_count": 151,
   "metadata": {},
   "outputs": [
    {
     "data": {
      "text/html": [
       "<div>\n",
       "<style>\n",
       "    .dataframe thead tr:only-child th {\n",
       "        text-align: right;\n",
       "    }\n",
       "\n",
       "    .dataframe thead th {\n",
       "        text-align: left;\n",
       "    }\n",
       "\n",
       "    .dataframe tbody tr th {\n",
       "        vertical-align: top;\n",
       "    }\n",
       "</style>\n",
       "<table border=\"1\" class=\"dataframe\">\n",
       "  <thead>\n",
       "    <tr style=\"text-align: right;\">\n",
       "      <th></th>\n",
       "      <th>California</th>\n",
       "      <th>Texas</th>\n",
       "      <th>New York</th>\n",
       "      <th>Florida</th>\n",
       "    </tr>\n",
       "  </thead>\n",
       "  <tbody>\n",
       "    <tr>\n",
       "      <th>2014-01-08</th>\n",
       "      <td>0.763195</td>\n",
       "      <td>-1.009497</td>\n",
       "      <td>0.343186</td>\n",
       "      <td>0.808925</td>\n",
       "    </tr>\n",
       "    <tr>\n",
       "      <th>2014-01-15</th>\n",
       "      <td>0.567926</td>\n",
       "      <td>-0.649508</td>\n",
       "      <td>0.301028</td>\n",
       "      <td>-1.183059</td>\n",
       "    </tr>\n",
       "    <tr>\n",
       "      <th>2014-01-22</th>\n",
       "      <td>1.029831</td>\n",
       "      <td>-0.357734</td>\n",
       "      <td>-0.256060</td>\n",
       "      <td>-0.789614</td>\n",
       "    </tr>\n",
       "    <tr>\n",
       "      <th>2014-01-29</th>\n",
       "      <td>0.441617</td>\n",
       "      <td>0.582626</td>\n",
       "      <td>0.546245</td>\n",
       "      <td>-0.036859</td>\n",
       "    </tr>\n",
       "    <tr>\n",
       "      <th>2014-02-05</th>\n",
       "      <td>0.102730</td>\n",
       "      <td>-0.013300</td>\n",
       "      <td>-0.592911</td>\n",
       "      <td>1.399227</td>\n",
       "    </tr>\n",
       "  </tbody>\n",
       "</table>\n",
       "</div>"
      ],
      "text/plain": [
       "            California     Texas  New York   Florida\n",
       "2014-01-08    0.763195 -1.009497  0.343186  0.808925\n",
       "2014-01-15    0.567926 -0.649508  0.301028 -1.183059\n",
       "2014-01-22    1.029831 -0.357734 -0.256060 -0.789614\n",
       "2014-01-29    0.441617  0.582626  0.546245 -0.036859\n",
       "2014-02-05    0.102730 -0.013300 -0.592911  1.399227"
      ]
     },
     "execution_count": 151,
     "metadata": {},
     "output_type": "execute_result"
    }
   ],
   "source": [
    "long_df['2014-01-06':'2014-02-06']"
   ]
  },
  {
   "cell_type": "code",
   "execution_count": null,
   "metadata": {},
   "outputs": [],
   "source": []
  }
 ],
 "metadata": {
  "kernelspec": {
   "display_name": "Python 3",
   "language": "python",
   "name": "python3"
  },
  "language_info": {
   "codemirror_mode": {
    "name": "ipython",
    "version": 3
   },
   "file_extension": ".py",
   "mimetype": "text/x-python",
   "name": "python",
   "nbconvert_exporter": "python",
   "pygments_lexer": "ipython3",
   "version": "3.6.2"
  }
 },
 "nbformat": 4,
 "nbformat_minor": 2
}
